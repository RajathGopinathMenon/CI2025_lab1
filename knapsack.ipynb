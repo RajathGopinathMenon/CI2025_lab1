{
 "cells": [
  {
   "cell_type": "markdown",
   "id": "11fa4375",
   "metadata": {},
   "source": [
    "Copyright **`(c)`** 2025 Giovanni Squillero `<giovanni.squillero@polito.it>`  \n",
    "[`https://github.com/squillero/computational-intelligence`](https://github.com/squillero/computational-intelligence)  \n",
    "Free under certain conditions — see the [`license`](https://github.com/squillero/computational-intelligence/blob/master/LICENSE.md) for details.  "
   ]
  },
  {
   "cell_type": "code",
   "execution_count": 3,
   "id": "c0882a9f",
   "metadata": {},
   "outputs": [],
   "source": [
    "import numpy as np"
   ]
  },
  {
   "cell_type": "code",
   "execution_count": 3,
   "id": "3adb670e",
   "metadata": {},
   "outputs": [],
   "source": [
    "NUM_KNAPSACKS = 3\n",
    "NUM_ITEMS = 10\n",
    "NUM_DIMENSIONS = 2"
   ]
  },
  {
   "cell_type": "code",
   "execution_count": 4,
   "id": "2db51e99",
   "metadata": {},
   "outputs": [],
   "source": [
    "VALUES = np.random.randint(0, 100, size=NUM_ITEMS)\n",
    "WEIGHTS = np.random.randint(0, 100, size=(NUM_ITEMS, NUM_DIMENSIONS))\n",
    "CONSTRAINTS = np.random.randint(\n",
    "    0, 100 * NUM_ITEMS // NUM_KNAPSACKS, size=(NUM_KNAPSACKS, NUM_DIMENSIONS)\n",
    ")"
   ]
  },
  {
   "cell_type": "code",
   "execution_count": 5,
   "id": "ec768d92",
   "metadata": {},
   "outputs": [
    {
     "data": {
      "text/plain": [
       "array([ 3, 70, 34,  1, 62, 17, 10, 64, 49, 79])"
      ]
     },
     "execution_count": 5,
     "metadata": {},
     "output_type": "execute_result"
    }
   ],
   "source": [
    "VALUES\n"
   ]
  },
  {
   "cell_type": "code",
   "execution_count": 6,
   "id": "cb715917",
   "metadata": {},
   "outputs": [
    {
     "data": {
      "text/plain": [
       "array([[57, 45],\n",
       "       [64, 58],\n",
       "       [82, 92],\n",
       "       [51, 10],\n",
       "       [34, 53],\n",
       "       [40, 58],\n",
       "       [96,  9],\n",
       "       [ 9, 70],\n",
       "       [80, 90],\n",
       "       [57, 53]])"
      ]
     },
     "execution_count": 6,
     "metadata": {},
     "output_type": "execute_result"
    }
   ],
   "source": [
    "WEIGHTS\n"
   ]
  },
  {
   "cell_type": "code",
   "execution_count": 8,
   "id": "15da2136",
   "metadata": {},
   "outputs": [
    {
     "data": {
      "text/plain": [
       "array([[278, 272],\n",
       "       [237, 124],\n",
       "       [ 79, 298]])"
      ]
     },
     "execution_count": 8,
     "metadata": {},
     "output_type": "execute_result"
    }
   ],
   "source": [
    "CONSTRAINTS"
   ]
  },
  {
   "cell_type": "code",
   "execution_count": 7,
   "id": "b25000fd",
   "metadata": {},
   "outputs": [],
   "source": [
    "import numpy as np\n",
    "from typing import Tuple\n",
    "\n",
    "class KnapsackSolver:\n",
    "    \"\"\"\n",
    "    Multidimensional 0-1 Knapsack solver Hill Climbing approach.\n",
    "    \"\"\"\n",
    "    \n",
    "    def __init__(self, num_knapsacks: int, num_items: int, num_dimensions: int, values: np.ndarray, weights: np.ndarray, constraints: np.ndarray):\n",
    "        \n",
    "        # Problem parameters\n",
    "        self.num_knapsacks = num_knapsacks\n",
    "        self.num_items = num_items\n",
    "        self.num_dimensions = num_dimensions\n",
    "        self.values = values          \n",
    "        self.weights = weights        \n",
    "        self.constraints = constraints \n",
    "        self.rng = np.random.default_rng()\n",
    "        \n",
    "    # --- Evaluation Methods ---\n",
    "\n",
    "    def get_value(self, solution: np.ndarray) -> float:\n",
    "        \"\"\"Calculates the un-penalized total value of items included in the knapsacks.\"\"\"\n",
    "        selected_items_mask = np.any(solution, axis=0)\n",
    "        return np.sum(self.values[selected_items_mask])\n",
    "\n",
    "    def validSolution(self, solution: np.ndarray) -> bool:\n",
    "        \"\"\"Checks if the solution is valid based on uniqueness and capacity constraints.\"\"\"\n",
    "        # 1. Uniqueness check (1 item only in 1 knapsack)\n",
    "        if not np.all(solution.sum(axis=0) <= 1):\n",
    "            return False\n",
    "            \n",
    "        # 2. Capacity check (sum of weights vs. constraints)\n",
    "        for k in range(self.num_knapsacks):\n",
    "            total_weight = self.weights[solution[k]].sum(axis=0)\n",
    "            if np.any(total_weight > self.constraints[k]):\n",
    "                return False\n",
    "        return True\n",
    "\n",
    "    def fitness(self, solution: np.ndarray) -> float:\n",
    "        \"\"\"Returns the total value if valid, otherwise a large negative penalty.\"\"\"\n",
    "        if not self.validSolution(solution):\n",
    "            return -1e9\n",
    "        return self.get_value(solution)\n",
    "        \n",
    "    \n",
    "    def make_valid(self, temp_solution: np.ndarray) -> np.ndarray:\n",
    "        \"\"\"Make the solution valid by fixing uniqueness and capacity violations.\"\"\"\n",
    "        # Fix uniqueness violations first\n",
    "        duplicates = np.where(temp_solution.sum(axis=0) > 1)[0]\n",
    "        if len(duplicates) > 0:\n",
    "            for item in duplicates:\n",
    "                knapsack_indices = np.where(temp_solution[:, item])[0]\n",
    "                for k in knapsack_indices[1:]:\n",
    "                    temp_solution[k, item] = False\n",
    "        \n",
    "        # Address capacity violations by randomly removing items\n",
    "        while not self.validSolution(temp_solution):\n",
    "            knapsack = self.rng.integers(0, self.num_knapsacks)\n",
    "            items_in_knapsack = np.where(temp_solution[knapsack])[0]\n",
    "            \n",
    "            if len(items_in_knapsack) == 0:\n",
    "                continue\n",
    "                \n",
    "            item_to_remove = self.rng.choice(items_in_knapsack)\n",
    "            temp_solution[knapsack, item_to_remove] = False\n",
    "            \n",
    "        return temp_solution\n",
    "\n",
    "    # --- Tweak function ---\n",
    "\n",
    "    def tweak(self, solution: np.ndarray) -> np.ndarray:\n",
    "        \"\"\"Generates a neighbor by randomly attempting to ADD a single item to an empty slot.\"\"\"\n",
    "        new_solution = solution.copy()\n",
    "        \n",
    "        # Loop until an empty slot (j, i) is found\n",
    "        while True:\n",
    "            i = self.rng.integers(0, self.num_items)\n",
    "            j = self.rng.integers(0, self.num_knapsacks)\n",
    "            \n",
    "            if not solution[j, i]:\n",
    "                break\n",
    "                \n",
    "        # Attempt to ADD the item to the empty slot\n",
    "        new_solution[j, i] = True\n",
    "        \n",
    "        return new_solution\n",
    "\n",
    "    # --- Main Solver Method ---\n",
    "\n",
    "    def solve_knapsack(self, initial_solution: np.ndarray = None, max_iter: int = 1000, verbose: bool = False) -> Tuple[np.ndarray, float]:\n",
    "        \n",
    "        if initial_solution is None:\n",
    "            solution = np.zeros((self.num_knapsacks, self.num_items), dtype=bool)\n",
    "        else:\n",
    "            solution = initial_solution.copy()\n",
    "\n",
    "        # Start with a feasible solution\n",
    "        solution = self.make_valid(solution)\n",
    "\n",
    "        # Keep global best solution\n",
    "        best_solution = solution.copy()\n",
    "        best_fitness = self.fitness(best_solution)\n",
    "\n",
    "        # Current solution that updates over time\n",
    "        cur_solution = solution.copy()    \n",
    "        cur_fitness = best_fitness\n",
    "        \n",
    "        if verbose:\n",
    "            print(f\"Initial Feasible Fitness: {best_fitness:.2f}\")\n",
    "\n",
    "        for iteration in range(max_iter):\n",
    "            # Tweak the current solution\n",
    "            new_solution = self.tweak(cur_solution.copy())\n",
    "\n",
    "            # Evaluate fitness (penalty is applied if infeasible)\n",
    "            new_fitness = self.fitness(new_solution)\n",
    "            \n",
    "            # 1. Update Global Best Solution\n",
    "            if new_fitness > best_fitness:\n",
    "                best_solution = new_solution.copy()\n",
    "                best_fitness = new_fitness\n",
    "\n",
    "            # 2. Acceptance Criteria (Pure Greedy Hill Climbing): \n",
    "            # Only accept the move if it is STRICTLY BETTER than the current solution.\n",
    "            if new_fitness > cur_fitness:\n",
    "                cur_solution = new_solution\n",
    "                cur_fitness = new_fitness\n",
    "\n",
    "        return best_solution, best_fitness"
   ]
  },
  {
   "cell_type": "markdown",
   "id": "8e0e0673",
   "metadata": {},
   "source": [
    "## TEST PROBLEMS"
   ]
  },
  {
   "cell_type": "code",
   "execution_count": 2,
   "id": "5595db9c",
   "metadata": {},
   "outputs": [],
   "source": [
    "# Problem 1:\n",
    "rng = np.random.default_rng(seed=42)\n",
    "NUM_KNAPSACKS = 3\n",
    "NUM_ITEMS = 20\n",
    "NUM_DIMENSIONS = 2\n",
    "VALUES = rng.integers(0, 100, size=NUM_ITEMS)\n",
    "WEIGHTS = rng.integers(0, 100, size=(NUM_ITEMS, NUM_DIMENSIONS))\n",
    "CONSTRAINTS = rng.integers(\n",
    "    0, 100 * NUM_ITEMS // NUM_KNAPSACKS, size=(NUM_KNAPSACKS, NUM_DIMENSIONS)\n",
    ")"
   ]
  },
  {
   "cell_type": "code",
   "execution_count": 3,
   "id": "d646088e",
   "metadata": {},
   "outputs": [
    {
     "name": "stdout",
     "output_type": "stream",
     "text": [
      "Problem: 3 Knapsacks, 20 Items\n",
      "Best Total Value Found: 1065.00\n"
     ]
    }
   ],
   "source": [
    "solver = KnapsackSolver(NUM_KNAPSACKS, NUM_ITEMS, NUM_DIMENSIONS, VALUES, WEIGHTS, CONSTRAINTS)\n",
    "\n",
    "# Run the solver (max_iter set to 5000 for a quick but decent result)\n",
    "solution, value = solver.solve_knapsack(max_iter=5000)\n",
    "\n",
    "# Print the output\n",
    "print(f\"Problem: {NUM_KNAPSACKS} Knapsacks, {NUM_ITEMS} Items\")\n",
    "print(f\"Best Total Value Found: {value:.2f}\")"
   ]
  },
  {
   "cell_type": "code",
   "execution_count": 6,
   "id": "62044239",
   "metadata": {},
   "outputs": [],
   "source": [
    "solver = KnapsackSolver(NUM_KNAPSACKS, NUM_ITEMS, NUM_DIMENSIONS, VALUES, WEIGHTS, CONSTRAINTS)\n",
    "solution=solver.solve_knapsack()"
   ]
  },
  {
   "cell_type": "code",
   "execution_count": 4,
   "id": "9eed08a0",
   "metadata": {},
   "outputs": [],
   "source": [
    "# Problem 2:\n",
    "rng = np.random.default_rng(seed=42)\n",
    "NUM_KNAPSACKS = 10\n",
    "NUM_ITEMS = 100\n",
    "NUM_DIMENSIONS = 10\n",
    "VALUES = rng.integers(0, 1000, size=NUM_ITEMS)\n",
    "WEIGHTS = rng.integers(0, 1000, size=(NUM_ITEMS, NUM_DIMENSIONS))\n",
    "CONSTRAINTS = rng.integers(\n",
    "    1000 * 2, 1000 * NUM_ITEMS // NUM_KNAPSACKS, size=(NUM_KNAPSACKS, NUM_DIMENSIONS)\n",
    ")"
   ]
  },
  {
   "cell_type": "code",
   "execution_count": 34,
   "id": "c31a499d",
   "metadata": {},
   "outputs": [
    {
     "name": "stdout",
     "output_type": "stream",
     "text": [
      "Problem: 10 Knapsacks, 100 Items\n",
      "Best Total Value Found: 33249.00\n"
     ]
    }
   ],
   "source": [
    "solver = KnapsackSolver(NUM_KNAPSACKS, NUM_ITEMS, NUM_DIMENSIONS, VALUES, WEIGHTS, CONSTRAINTS)\n",
    "\n",
    "# Run the solver (max_iter set to 5000 for a quick but decent result)\n",
    "solution, value = solver.solve_knapsack(max_iter=5000)\n",
    "\n",
    "# Print the output\n",
    "print(f\"Problem: {NUM_KNAPSACKS} Knapsacks, {NUM_ITEMS} Items\")\n",
    "print(f\"Best Total Value Found: {value:.2f}\")"
   ]
  },
  {
   "cell_type": "code",
   "execution_count": 5,
   "id": "117380d6",
   "metadata": {},
   "outputs": [],
   "source": [
    "# Problem 3:\n",
    "rng = np.random.default_rng(seed=42)\n",
    "NUM_KNAPSACKS = 100\n",
    "NUM_ITEMS = 5000\n",
    "NUM_DIMENSIONS = 100\n",
    "VALUES = rng.integers(0, 1000, size=NUM_ITEMS)\n",
    "WEIGHTS = rng.integers(0, 1000, size=(NUM_ITEMS, NUM_DIMENSIONS))\n",
    "CONSTRAINTS = rng.integers(\n",
    "    1000 * 10, 1000 * 2 * NUM_ITEMS // NUM_KNAPSACKS, size=(NUM_KNAPSACKS, NUM_DIMENSIONS)\n",
    ")"
   ]
  },
  {
   "cell_type": "code",
   "execution_count": 6,
   "id": "cc0b8cb2",
   "metadata": {},
   "outputs": [
    {
     "name": "stdout",
     "output_type": "stream",
     "text": [
      "Problem: 100 Knapsacks, 5000 Items\n",
      "Best Total Value Found: 1035845.00\n"
     ]
    }
   ],
   "source": [
    "solver = KnapsackSolver(NUM_KNAPSACKS, NUM_ITEMS, NUM_DIMENSIONS, VALUES, WEIGHTS, CONSTRAINTS)\n",
    "\n",
    "# Run the solver (max_iter set to 5000 for a quick but decent result)\n",
    "solution, value = solver.solve_knapsack(max_iter=5000)\n",
    "\n",
    "# Print the output\n",
    "print(f\"Problem: {NUM_KNAPSACKS} Knapsacks, {NUM_ITEMS} Items\")\n",
    "print(f\"Best Total Value Found: {value:.2f}\")"
   ]
  },
  {
   "cell_type": "code",
   "execution_count": null,
   "id": "498d740a",
   "metadata": {},
   "outputs": [],
   "source": []
  }
 ],
 "metadata": {
  "kernelspec": {
   "display_name": "Python 3 (ipykernel)",
   "language": "python",
   "name": "python3"
  },
  "language_info": {
   "codemirror_mode": {
    "name": "ipython",
    "version": 3
   },
   "file_extension": ".py",
   "mimetype": "text/x-python",
   "name": "python",
   "nbconvert_exporter": "python",
   "pygments_lexer": "ipython3",
   "version": "3.10.9"
  }
 },
 "nbformat": 4,
 "nbformat_minor": 5
}
